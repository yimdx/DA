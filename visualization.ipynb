{
 "cells": [
  {
   "cell_type": "code",
   "execution_count": 2,
   "metadata": {},
   "outputs": [
    {
     "ename": "IndentationError",
     "evalue": "expected an indented block after 'if' statement on line 18 (1993670088.py, line 21)",
     "output_type": "error",
     "traceback": [
      "\u001b[0;36m  Cell \u001b[0;32mIn[2], line 21\u001b[0;36m\u001b[0m\n\u001b[0;31m    def visualization_first(batch, pos, epoch=0, batch_idx=0, all = False):\u001b[0m\n\u001b[0m                                                                           ^\u001b[0m\n\u001b[0;31mIndentationError\u001b[0m\u001b[0;31m:\u001b[0m expected an indented block after 'if' statement on line 18\n"
     ]
    }
   ],
   "source": [
    "import matplotlib.pyplot as plt\n",
    "import networkx as nx\n",
    "import os\n",
    "save_dir = 'visualization'\n",
    "def visualization_batch(batch, pos, epoch=0, batch_idx=0, all = False, method = None):\n",
    "    pos = pos.detach().cpu()\n",
    "    count = 0\n",
    "\n",
    "    for i in range(len(batch)):\n",
    "        plt.clf()\n",
    "        pos_dict = {i-count: (pos[i, 0].item(), pos[i, 1].item()) for i in range(pos.shape[0])}\n",
    "        count += batch[i].G.number_of_nodes()\n",
    "        nx.draw(batch[i].G, pos=pos_dict, with_labels=True)\n",
    "        os.makedirs(save_dir, exist_ok=True)\n",
    "        if method:\n",
    "            save_dir = os.path.join(save_dir, method)\n",
    "        image_path = os.path.join(save_dir, f\"graph_epoch_{epoch}_batch_{batch_idx}_graph_{i}.png\")\n",
    "        plt.savefig(image_path)\n",
    "        print(f\"Graph saved to {image_path}\")\n",
    "        if all == False:\n",
    "            break\n",
    "\n",
    "def visualization_first(batch, pos, epoch=0, batch_idx=0, all = False):\n",
    "    pos = pos.detach().cpu()\n",
    "    count = 0\n",
    "    \n",
    "    for i in range(len(batch)):\n",
    "        plt.clf()\n",
    "        pos_dict = {i-count: (pos[i, 0].item(), pos[i, 1].item()) for i in range(pos.shape[0])}\n",
    "        count += batch[i].G.number_of_nodes()\n",
    "    nx.draw(batch[0].G, pos=pos_dict, with_labels=True)\n",
    "    os.makedirs(save_dir, exist_ok=True)\n",
    "    image_path = os.path.join(save_dir, f\"graph_epoch_{epoch}_batch_{batch_idx}_graph_0.png\")\n",
    "    plt.savefig(image_path)\n",
    "    print(f\"Graph saved to {image_path}\")\n"
   ]
  },
  {
   "cell_type": "code",
   "execution_count": null,
   "metadata": {},
   "outputs": [],
   "source": [
    "import os\n",
    "\n",
    "def generate_markdown(root_dir):\n",
    "    methods = sorted([d for d in os.listdir(root_dir) if os.path.isdir(os.path.join(root_dir, d))])\n",
    "    batch_files = {}\n",
    "    \n",
    "    # Collect all batch file names\n",
    "    for method in methods:\n",
    "        method_path = os.path.join(root_dir, method)\n",
    "        batch_files[method] = sorted(os.listdir(method_path))\n",
    "    \n",
    "    # Determine the number of batches based on the first method\n",
    "    num_batches = len(batch_files[methods[0]]) if methods else 0\n",
    "    \n",
    "    markdown = \"| Graph | \" + \" | \".join(methods) + \" |\\n\"\n",
    "    markdown += \"|\" + \"--------|\" * (len(methods) + 1) + \"\\n\"\n",
    "    \n",
    "    for i in range(num_batches):\n",
    "        row = [f\"Batch {i}\"]\n",
    "        for method in methods:\n",
    "            if i < len(batch_files[method]):\n",
    "                row.append(f\"![]({method}/{batch_files[method][i]})\")\n",
    "            else:\n",
    "                row.append(\" \")\n",
    "        markdown += \"| \" + \" | \".join(row) + \" |\\n\"\n",
    "    \n",
    "    return markdown\n",
    "\n",
    "# Example usage\n",
    "root_directory = \"Egnn_DeepGD/visualization\"\n",
    "markdown_content = generate_markdown(root_directory)\n",
    "with open(\"visualization.md\", \"w\") as f:\n",
    "    f.write(markdown_content)\n",
    "\n",
    "print(\"Markdown file generated successfully!\")\n"
   ]
  }
 ],
 "metadata": {
  "kernelspec": {
   "display_name": "Python 3",
   "language": "python",
   "name": "python3"
  },
  "language_info": {
   "codemirror_mode": {
    "name": "ipython",
    "version": 3
   },
   "file_extension": ".py",
   "mimetype": "text/x-python",
   "name": "python",
   "nbconvert_exporter": "python",
   "pygments_lexer": "ipython3",
   "version": "3.10.15"
  }
 },
 "nbformat": 4,
 "nbformat_minor": 2
}
