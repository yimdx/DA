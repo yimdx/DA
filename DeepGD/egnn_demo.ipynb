{
 "cells": [
  {
   "cell_type": "code",
   "execution_count": 225,
   "metadata": {},
   "outputs": [],
   "source": [
    "import pandas as pd\n",
    "import numpy as np\n",
    "import torch\n",
    "import torch_geometric as pyg\n",
    "from tqdm.auto import *\n",
    "\n",
    "from deepgd.model import Generator\n",
    "from deepgd.data import GraphDrawingData\n",
    "from deepgd.datasets import  RomeDataset\n",
    "from deepgd.metrics import Stress\n",
    "\n",
    "from egnn_pytorch.egnn_pytorch_geometric import EGNN_Network, EGNN_Sparse_Network\n"
   ]
  },
  {
   "cell_type": "code",
   "execution_count": 226,
   "metadata": {},
   "outputs": [],
   "source": [
    "device = \"cpu\"\n",
    "# for backend, device_name in {\n",
    "#     torch.backends.mps: \"mps\",\n",
    "#     torch.cuda: \"cuda\",\n",
    "# }.items():\n",
    "#     if backend.is_available():\n",
    "#         device = device_name"
   ]
  },
  {
   "cell_type": "code",
   "execution_count": 227,
   "metadata": {},
   "outputs": [],
   "source": [
    "batch_size = 4\n",
    "lr = 0.001\n",
    "decay = 0.998"
   ]
  },
  {
   "cell_type": "code",
   "execution_count": null,
   "metadata": {},
   "outputs": [
    {
     "name": "stderr",
     "output_type": "stream",
     "text": [
      "/Users/xuefengli/24fall/DeepAesthetic/.conda/lib/python3.10/site-packages/torch_geometric/data/dataset.py:213: FutureWarning: You are using `torch.load` with `weights_only=False` (the current default value), which uses the default pickle module implicitly. It is possible to construct malicious pickle data which will execute arbitrary code during unpickling (See https://github.com/pytorch/pytorch/blob/main/SECURITY.md#untrusted-models for more details). In a future release, the default value for `weights_only` will be flipped to `True`. This limits the functions that could be executed during unpickling. Arbitrary objects will no longer be allowed to be loaded via this mode unless they are explicitly allowlisted by the user via `torch.serialization.add_safe_globals`. We recommend you start setting `weights_only=True` for any use case where you don't have full control of the loaded file. Please open an issue on GitHub for any issues related to this experimental feature.\n",
      "  if osp.exists(f) and torch.load(f) != _repr(self.pre_transform):\n",
      "/Users/xuefengli/24fall/DeepAesthetic/.conda/lib/python3.10/site-packages/torch_geometric/data/dataset.py:221: FutureWarning: You are using `torch.load` with `weights_only=False` (the current default value), which uses the default pickle module implicitly. It is possible to construct malicious pickle data which will execute arbitrary code during unpickling (See https://github.com/pytorch/pytorch/blob/main/SECURITY.md#untrusted-models for more details). In a future release, the default value for `weights_only` will be flipped to `True`. This limits the functions that could be executed during unpickling. Arbitrary objects will no longer be allowed to be loaded via this mode unless they are explicitly allowlisted by the user via `torch.serialization.add_safe_globals`. We recommend you start setting `weights_only=True` for any use case where you don't have full control of the loaded file. Please open an issue on GitHub for any issues related to this experimental feature.\n",
      "  if osp.exists(f) and torch.load(f) != _repr(self.pre_filter):\n",
      "/Users/xuefengli/24fall/DeepAesthetic/DeepGD/deepgd/datasets/rome_dataset.py:41: FutureWarning: You are using `torch.load` with `weights_only=False` (the current default value), which uses the default pickle module implicitly. It is possible to construct malicious pickle data which will execute arbitrary code during unpickling (See https://github.com/pytorch/pytorch/blob/main/SECURITY.md#untrusted-models for more details). In a future release, the default value for `weights_only` will be flipped to `True`. This limits the functions that could be executed during unpickling. Arbitrary objects will no longer be allowed to be loaded via this mode unless they are explicitly allowlisted by the user via `torch.serialization.add_safe_globals`. We recommend you start setting `weights_only=True` for any use case where you don't have full control of the loaded file. Please open an issue on GitHub for any issues related to this experimental feature.\n",
      "  self.data, self.slices = torch.load(self.data_path)\n",
      "Transform graphs: 100%|██████████| 11531/11531 [00:02<00:00, 5208.38it/s]\n"
     ]
    }
   ],
   "source": [
    "dataset = RomeDataset(\n",
    "    index=pd.read_csv(\"assets/rome_index.txt\", header=None)[0],\n",
    ")\n",
    "layouts = np.load(\"assets/layouts/pmds.npy\", allow_pickle=True)\n",
    "datalist = list(dataset)\n",
    "for i, data in enumerate(datalist):\n",
    "    if i > 500:\n",
    "        break\n",
    "    data.pos = torch.tensor(layouts[i]).float()\n",
    "train_datalist = datalist[0:450]\n",
    "test_datalist = datalist[450:500]\n",
    "val_datalist = datalist[500:550]"
   ]
  },
  {
   "cell_type": "code",
   "execution_count": 229,
   "metadata": {},
   "outputs": [
    {
     "name": "stdout",
     "output_type": "stream",
     "text": [
      "100\n"
     ]
    }
   ],
   "source": [
    "m=0\n",
    "for data in train_datalist:\n",
    "    m = max(len(data.G.nodes), m)\n",
    "for data in test_datalist:\n",
    "    m = max(len(data.G.nodes), m)\n",
    "print(m)"
   ]
  },
  {
   "cell_type": "markdown",
   "metadata": {},
   "source": [
    "# Model"
   ]
  },
  {
   "cell_type": "code",
   "execution_count": 230,
   "metadata": {},
   "outputs": [],
   "source": [
    "model = EGNN_Network(\n",
    "    num_tokens = 21,\n",
    "    num_positions = 1024,\n",
    "    dim = 32,\n",
    "    depth = 20,\n",
    "    coor_weights_clamp_value = 2. \n",
    ")\n",
    "\n",
    "optim = torch.optim.AdamW(model.parameters(), lr=lr)\n",
    "scheduler = torch.optim.lr_scheduler.ExponentialLR(optim, gamma=decay)"
   ]
  },
  {
   "cell_type": "code",
   "execution_count": 231,
   "metadata": {},
   "outputs": [],
   "source": [
    "train_loader = pyg.loader.DataLoader(train_datalist, batch_size=batch_size, shuffle=True)\n",
    "val_loader = pyg.loader.DataLoader(val_datalist, batch_size=batch_size, shuffle=False)\n",
    "test_loader = pyg.loader.DataLoader(test_datalist, batch_size=batch_size, shuffle=False)"
   ]
  },
  {
   "cell_type": "markdown",
   "metadata": {},
   "source": [
    "# preprocess"
   ]
  },
  {
   "cell_type": "code",
   "execution_count": 232,
   "metadata": {},
   "outputs": [],
   "source": [
    "def generate_init_pos(batch):\n",
    "    # pos = torch.rand_like(batch.pos)\n",
    "    pos = rescale_by_stress(\n",
    "        pos=batch.pos,\n",
    "        apsp=batch.apsp_attr,\n",
    "        edge_index=batch.perm_index,\n",
    "        batch_index=batch.batch,\n",
    "    )\n",
    "    return pos\n",
    "\n",
    "def get_edge_features(all_pair_shortest_path):\n",
    "    return torch.cat([\n",
    "        all_pair_shortest_path[:, None],\n",
    "        1 / all_pair_shortest_path[:, None].square()\n",
    "    ], dim=-1)\n",
    "\n",
    "def rescale_by_stress(pos, apsp, edge_index, batch_index):\n",
    "    src_pos, dst_pos = pos[edge_index[0]], pos[edge_index[1]]\n",
    "    dist = (dst_pos - src_pos).norm(dim=1)\n",
    "    u_over_d = dist / apsp\n",
    "    scatterd_u_over_d_2 = pyg.utils.scatter(u_over_d ** 2, batch_index[edge_index[0]])\n",
    "    scatterd_u_over_d = pyg.utils.scatter(u_over_d, batch_index[edge_index[0]])\n",
    "    scale = scatterd_u_over_d_2 / scatterd_u_over_d\n",
    "    return pos / scale[batch_index][:, None]\n",
    "\n",
    "criteria = {\n",
    "    Stress(): 1,\n",
    "    # dgd.EdgeVar(): 0,\n",
    "    # dgd.Occlusion(): 0,\n",
    "    # dgd.IncidentAngle(): 0,\n",
    "    # dgd.TSNEScore(): 0,\n",
    "}"
   ]
  },
  {
   "cell_type": "code",
   "execution_count": 233,
   "metadata": {},
   "outputs": [],
   "source": [
    "# feats = torch.randint(0, 21, (1, 512)) # (1, 256)\n",
    "# coors = torch.randn(1, 512, 2)         # (1, 256, 3)\n",
    "# mask = torch.ones_like(feats).bool()    # (1, 256)\n",
    "\n",
    "# feats_out, coors_out = model(feats, coors, mask = mask) # (1, 1024, 32), (1, 1024, 3)"
   ]
  },
  {
   "cell_type": "code",
   "execution_count": 234,
   "metadata": {},
   "outputs": [],
   "source": [
    "# def stress_loss(pred_pos, edge_index, apsp):\n",
    "#     start, end = pred_pos[edge_index[0]], pred_pos[edge_index[1]]\n",
    "#     dist = (end - start).norm(p=2, dim=1)\n",
    "#     loss = ((dist - apsp) / apsp).pow(2).mean()\n",
    "#     return loss\n",
    "\n",
    "# def rescale_stress(pos, apsp, edge_index):\n",
    "#     src_pos, dst_pos = pos[edge_index[0]], pos[edge_index[1]]\n",
    "#     # print(pos.shape)\n",
    "#     # print(src_pos.shape, dst_pos.shape)\n",
    "#     dist = (dst_pos - src_pos).norm(dim=1)\n",
    "#     u_over_d = dist / apsp\n",
    "#     scatterd_u_over_d_2 = pyg.utils.scatter(u_over_d ** 2, edge_index[0])\n",
    "#     scatterd_u_over_d = pyg.utils.scatter(u_over_d, edge_index[0])\n",
    "#     scale = scatterd_u_over_d_2 / scatterd_u_over_d\n",
    "#     return pos / scale[:, None]"
   ]
  },
  {
   "cell_type": "markdown",
   "metadata": {},
   "source": [
    "# Test single pic"
   ]
  },
  {
   "cell_type": "code",
   "execution_count": 235,
   "metadata": {},
   "outputs": [],
   "source": [
    "# single = datalist[0]\n",
    "# single.draw()\n"
   ]
  },
  {
   "cell_type": "code",
   "execution_count": 236,
   "metadata": {},
   "outputs": [],
   "source": [
    "\n",
    "# print(torch.isnan(single.pos))  # Should print tensor([[False, False], ...]) indicating no NaNs\n",
    "# coors = single.pos\n",
    "# coors = coors.unsqueeze(0)\n",
    "# feats = torch.randint(1, 21, coors.shape[:2])\n",
    "# print(coors)\n",
    "# feats, pred = model(\n",
    "#         feats,\n",
    "#         coors\n",
    "#     )\n",
    "# single.pos = pred[0]\n",
    "# single.draw()"
   ]
  },
  {
   "cell_type": "code",
   "execution_count": 237,
   "metadata": {},
   "outputs": [],
   "source": [
    "# for epoch in range(2):\n",
    "#     model.train()\n",
    "#     losses = []\n",
    "#     for batch in tqdm(train_datalist):\n",
    "#         batch = batch.to(device)\n",
    "#         model.zero_grad()\n",
    "#         loss = 0\n",
    "#         init_pos = batch.pos.unsqueeze(0)\n",
    "#         feats = torch.randint(1, 21, init_pos.shape[:2])\n",
    "#         coors = init_pos\n",
    "#         feats, pred = model(\n",
    "#                 feats,\n",
    "#                 coors\n",
    "#             )\n",
    "#         pos = pred[0]\n",
    "#         loss += stress_loss(pos, batch.perm_index, batch.apsp_attr)\n",
    "#         loss.backward(retain_graph=True)\n",
    "#         optim.step()\n",
    "#         losses.append(loss.item())\n",
    "#     scheduler.step()\n",
    "#     print(f'[Epoch {epoch}] Train Loss: {np.mean(losses)}')\n",
    "\n",
    "\n",
    "        \n",
    "            \n"
   ]
  },
  {
   "cell_type": "code",
   "execution_count": 238,
   "metadata": {},
   "outputs": [],
   "source": [
    "\n",
    "# coors = single.pos\n",
    "# coors = coors.unsqueeze(0)\n",
    "# feats = torch.randint(1, 21, coors.shape[:2])\n",
    "# feats, pred = model(\n",
    "#         feats,\n",
    "#         coors\n",
    "#     )\n",
    "# print(pred[0])"
   ]
  },
  {
   "cell_type": "code",
   "execution_count": null,
   "metadata": {},
   "outputs": [
    {
     "name": "stderr",
     "output_type": "stream",
     "text": [
      "100%|██████████| 113/113 [02:02<00:00,  1.08s/it]\n"
     ]
    },
    {
     "name": "stdout",
     "output_type": "stream",
     "text": [
      "[Epoch 0] Train Loss: nan\n"
     ]
    },
    {
     "name": "stderr",
     "output_type": "stream",
     "text": [
      "100%|██████████| 113/113 [02:10<00:00,  1.15s/it]"
     ]
    },
    {
     "name": "stdout",
     "output_type": "stream",
     "text": [
      "[Epoch 1] Train Loss: nan\n"
     ]
    },
    {
     "name": "stderr",
     "output_type": "stream",
     "text": [
      "\n"
     ]
    }
   ],
   "source": [
    "for epoch in range(2):\n",
    "    model.train()\n",
    "    losses = []\n",
    "    for batch in tqdm(train_loader):\n",
    "        batch = batch.to(device)\n",
    "        model.zero_grad()\n",
    "        loss = 0\n",
    "        for c, w in criteria.items():\n",
    "            coors = generate_init_pos(batch).unsqueeze(0)\n",
    "            feats = torch.randint(0, 21, (1, batch.pos.shape[0]))\n",
    "            feats, pred = model( #EGNN\n",
    "                feats,\n",
    "                coors\n",
    "            )\n",
    "            pos = rescale_by_stress(pred[0], batch.apsp_attr, batch.perm_index, batch.batch)\n",
    "            loss += w * c(pos, batch.perm_index, batch.apsp_attr, batch.batch)\n",
    "        loss.backward()\n",
    "        optim.step()\n",
    "        losses.append(loss.item())\n",
    "    scheduler.step()\n",
    "    print(f'[Epoch {epoch}] Train Loss: {np.mean(losses)}')"
   ]
  }
 ],
 "metadata": {
  "kernelspec": {
   "display_name": "Python 3",
   "language": "python",
   "name": "python3"
  },
  "language_info": {
   "codemirror_mode": {
    "name": "ipython",
    "version": 3
   },
   "file_extension": ".py",
   "mimetype": "text/x-python",
   "name": "python",
   "nbconvert_exporter": "python",
   "pygments_lexer": "ipython3",
   "version": "3.10.15"
  }
 },
 "nbformat": 4,
 "nbformat_minor": 2
}
